{
 "cells": [
  {
   "cell_type": "code",
   "execution_count": 4,
   "id": "81be7be1-3353-4f21-882d-5879a297b04d",
   "metadata": {},
   "outputs": [
    {
     "name": "stdout",
     "output_type": "stream",
     "text": [
      "Requirement already satisfied: pandas in c:\\users\\sebas\\appdata\\local\\programs\\python\\python310\\lib\\site-packages (1.5.3)\n",
      "Requirement already satisfied: pytz>=2020.1 in c:\\users\\sebas\\appdata\\local\\programs\\python\\python310\\lib\\site-packages (from pandas) (2022.1)\n",
      "Requirement already satisfied: numpy>=1.21.0 in c:\\users\\sebas\\appdata\\local\\programs\\python\\python310\\lib\\site-packages (from pandas) (1.24.3)\n",
      "Requirement already satisfied: python-dateutil>=2.8.1 in c:\\users\\sebas\\appdata\\local\\programs\\python\\python310\\lib\\site-packages (from pandas) (2.8.2)\n",
      "Requirement already satisfied: six>=1.5 in c:\\users\\sebas\\appdata\\local\\programs\\python\\python310\\lib\\site-packages (from python-dateutil>=2.8.1->pandas) (1.16.0)\n"
     ]
    },
    {
     "name": "stderr",
     "output_type": "stream",
     "text": [
      "WARNING: You are using pip version 21.2.4; however, version 25.0 is available.\n",
      "You should consider upgrading via the 'C:\\Users\\sebas\\AppData\\Local\\Programs\\Python\\Python310\\python.exe -m pip install --upgrade pip' command.\n"
     ]
    },
    {
     "name": "stdout",
     "output_type": "stream",
     "text": [
      "Requirement already satisfied: beautifulsoup4 in c:\\users\\sebas\\appdata\\local\\programs\\python\\python310\\lib\\site-packages (4.11.1)\n",
      "Requirement already satisfied: soupsieve>1.2 in c:\\users\\sebas\\appdata\\local\\programs\\python\\python310\\lib\\site-packages (from beautifulsoup4) (2.3.2.post1)\n"
     ]
    },
    {
     "name": "stderr",
     "output_type": "stream",
     "text": [
      "WARNING: You are using pip version 21.2.4; however, version 25.0 is available.\n",
      "You should consider upgrading via the 'C:\\Users\\sebas\\AppData\\Local\\Programs\\Python\\Python310\\python.exe -m pip install --upgrade pip' command.\n"
     ]
    },
    {
     "name": "stdout",
     "output_type": "stream",
     "text": [
      "Collecting lxml\n",
      "  Downloading lxml-5.3.0-cp310-cp310-win_amd64.whl (3.8 MB)\n",
      "Installing collected packages: lxml\n",
      "Successfully installed lxml-5.3.0\n"
     ]
    },
    {
     "name": "stderr",
     "output_type": "stream",
     "text": [
      "WARNING: You are using pip version 21.2.4; however, version 25.0 is available.\n",
      "You should consider upgrading via the 'C:\\Users\\sebas\\AppData\\Local\\Programs\\Python\\Python310\\python.exe -m pip install --upgrade pip' command.\n"
     ]
    }
   ],
   "source": [
    "# Instalación de librerias\n",
    "!pip install pandas\n",
    "!pip install beautifulsoup4\n",
    "!pip install lxml"
   ]
  },
  {
   "cell_type": "code",
   "execution_count": 18,
   "id": "192fe9f4-2c12-45f3-84be-90c875887024",
   "metadata": {},
   "outputs": [
    {
     "data": {
      "text/plain": [
       "'https://listado.mercadolibre.com.co/televisor-lg'"
      ]
     },
     "execution_count": 18,
     "metadata": {},
     "output_type": "execute_result"
    }
   ],
   "source": [
    "import datetime\n",
    "import os\n",
    "import pandas as pd\n",
    "import requests\n",
    "\n",
    "from bs4 import BeautifulSoup \n",
    "from lxml import etree\n",
    "\n",
    "HEADERS = ({'User-Agent': \n",
    "            'Mozilla/5.0 (X11; Linux x86_64) AppleWebKit/537.36 (KHTML, like Gecko) Chrome/44.0.2403.157 Safari/537.36'})\n",
    "\n",
    "palabra_busqueda = \"televisor lg\"\n",
    "\n",
    "url = \"https://listado.mercadolibre.com.co/\" + palabra_busqueda.replace(\" \", \"-\")\n",
    "url"
   ]
  },
  {
   "cell_type": "code",
   "execution_count": 19,
   "id": "81cdf67a-39cf-44a9-a6f0-29f40443a104",
   "metadata": {},
   "outputs": [
    {
     "data": {
      "text/plain": [
       "<Response [200]>"
      ]
     },
     "execution_count": 19,
     "metadata": {},
     "output_type": "execute_result"
    }
   ],
   "source": [
    "webpage = requests.get(url, headers=HEADERS) \n",
    "webpage"
   ]
  },
  {
   "cell_type": "code",
   "execution_count": 20,
   "id": "26775453-ee11-469e-8397-873434b39e57",
   "metadata": {},
   "outputs": [],
   "source": [
    "soup = BeautifulSoup(webpage.content, \"html.parser\") \n",
    "dom = etree.HTML(str(soup)) "
   ]
  },
  {
   "cell_type": "code",
   "execution_count": 56,
   "id": "5dec114a-766a-44c1-a562-7c7003fc4732",
   "metadata": {},
   "outputs": [
    {
     "data": {
      "text/html": [
       "<div>\n",
       "<style scoped>\n",
       "    .dataframe tbody tr th:only-of-type {\n",
       "        vertical-align: middle;\n",
       "    }\n",
       "\n",
       "    .dataframe tbody tr th {\n",
       "        vertical-align: top;\n",
       "    }\n",
       "\n",
       "    .dataframe thead th {\n",
       "        text-align: right;\n",
       "    }\n",
       "</style>\n",
       "<table border=\"1\" class=\"dataframe\">\n",
       "  <thead>\n",
       "    <tr style=\"text-align: right;\">\n",
       "      <th></th>\n",
       "      <th>nombre</th>\n",
       "      <th>precio</th>\n",
       "      <th>descuento</th>\n",
       "      <th>vendedor</th>\n",
       "      <th>calificacion</th>\n",
       "      <th>url_producto</th>\n",
       "      <th>imagen_url</th>\n",
       "    </tr>\n",
       "  </thead>\n",
       "  <tbody>\n",
       "    <tr>\n",
       "      <th>0</th>\n",
       "      <td>Smart TV LG 43LM6370PDB 43\" Full HD Led</td>\n",
       "      <td>1299900</td>\n",
       "      <td>45% OFF</td>\n",
       "      <td>Por LG Electronics Colombia</td>\n",
       "      <td>4.8</td>\n",
       "      <td>https://www.mercadolibre.com.co/smart-tv-lg-43...</td>\n",
       "      <td>https://http2.mlstatic.com/D_Q_NP_2X_975043-ML...</td>\n",
       "    </tr>\n",
       "    <tr>\n",
       "      <th>1</th>\n",
       "      <td>Tv LG 65 Uhd 4k Thinq Ai Smart 65ur8750psa (2023)</td>\n",
       "      <td>3299900</td>\n",
       "      <td>None</td>\n",
       "      <td>None</td>\n",
       "      <td>5.0</td>\n",
       "      <td>https://www.mercadolibre.com.co/tv-lg-65-uhd-4...</td>\n",
       "      <td>https://http2.mlstatic.com/D_Q_NP_2X_690201-ML...</td>\n",
       "    </tr>\n",
       "    <tr>\n",
       "      <th>2</th>\n",
       "      <td>Televisor LG 55 55ut8000psb 4k Ultra Hdsmart T...</td>\n",
       "      <td>1859016</td>\n",
       "      <td>43% OFF</td>\n",
       "      <td>Por LG Electronics Colombia</td>\n",
       "      <td>5.0</td>\n",
       "      <td>https://www.mercadolibre.com.co/televisor-lg-5...</td>\n",
       "      <td>data:image/gif;base64,R0lGODlhAQABAIAAAAAAAP//...</td>\n",
       "    </tr>\n",
       "    <tr>\n",
       "      <th>3</th>\n",
       "      <td>Televisor LG Oled Objet Collection 55lx1, Proc...</td>\n",
       "      <td>5390691</td>\n",
       "      <td>17% OFF</td>\n",
       "      <td>None</td>\n",
       "      <td>5.0</td>\n",
       "      <td>https://www.mercadolibre.com.co/televisor-lg-o...</td>\n",
       "      <td>data:image/gif;base64,R0lGODlhAQABAIAAAAAAAP//...</td>\n",
       "    </tr>\n",
       "    <tr>\n",
       "      <th>4</th>\n",
       "      <td>Televisor LG 55 Oled B4 Oled55b4 4k Smart Tv</td>\n",
       "      <td>4676987</td>\n",
       "      <td>None</td>\n",
       "      <td>None</td>\n",
       "      <td>5.0</td>\n",
       "      <td>https://www.mercadolibre.com.co/televisor-lg-5...</td>\n",
       "      <td>data:image/gif;base64,R0lGODlhAQABAIAAAAAAAP//...</td>\n",
       "    </tr>\n",
       "  </tbody>\n",
       "</table>\n",
       "</div>"
      ],
      "text/plain": [
       "                                              nombre   precio descuento  \\\n",
       "0            Smart TV LG 43LM6370PDB 43\" Full HD Led  1299900   45% OFF   \n",
       "1  Tv LG 65 Uhd 4k Thinq Ai Smart 65ur8750psa (2023)  3299900      None   \n",
       "2  Televisor LG 55 55ut8000psb 4k Ultra Hdsmart T...  1859016   43% OFF   \n",
       "3  Televisor LG Oled Objet Collection 55lx1, Proc...  5390691   17% OFF   \n",
       "4       Televisor LG 55 Oled B4 Oled55b4 4k Smart Tv  4676987      None   \n",
       "\n",
       "                       vendedor  calificacion  \\\n",
       "0  Por LG Electronics Colombia            4.8   \n",
       "1                          None           5.0   \n",
       "2  Por LG Electronics Colombia            5.0   \n",
       "3                          None           5.0   \n",
       "4                          None           5.0   \n",
       "\n",
       "                                        url_producto  \\\n",
       "0  https://www.mercadolibre.com.co/smart-tv-lg-43...   \n",
       "1  https://www.mercadolibre.com.co/tv-lg-65-uhd-4...   \n",
       "2  https://www.mercadolibre.com.co/televisor-lg-5...   \n",
       "3  https://www.mercadolibre.com.co/televisor-lg-o...   \n",
       "4  https://www.mercadolibre.com.co/televisor-lg-5...   \n",
       "\n",
       "                                          imagen_url  \n",
       "0  https://http2.mlstatic.com/D_Q_NP_2X_975043-ML...  \n",
       "1  https://http2.mlstatic.com/D_Q_NP_2X_690201-ML...  \n",
       "2  data:image/gif;base64,R0lGODlhAQABAIAAAAAAAP//...  \n",
       "3  data:image/gif;base64,R0lGODlhAQABAIAAAAAAAP//...  \n",
       "4  data:image/gif;base64,R0lGODlhAQABAIAAAAAAAP//...  "
      ]
     },
     "execution_count": 56,
     "metadata": {},
     "output_type": "execute_result"
    }
   ],
   "source": [
    "productos = dom.xpath('//ol[contains(@class, \"ui-search-layout ui-search-layout--stack shops__layout\")]//li[contains(@class, \"ui-search-layout__item shops__layout-item\")]')\n",
    "\n",
    "lista_productos = []\n",
    "\n",
    "for producto in productos:\n",
    "    imagen_url = producto.xpath('.//div[contains(@class, \"poly-card__portada\")]//img/@src')\n",
    "    url_producto = producto.xpath('.//h3[contains(@class, \"poly-component__title-wrapper\")]//a/@href')\n",
    "    nombre = producto.xpath('.//h3[contains(@class, \"poly-component__title-wrapper\")]//a/text()[normalize-space()]')\n",
    "    precio = producto.xpath('.//span[contains(@class, \"andes-money-amount andes-money-amount--cents-superscript\")]//span[contains(@class, \"andes-money-amount__fraction\")]/text()[normalize-space()]')\n",
    "    descuento = producto.xpath('.//span[contains(@class, \"andes-money-amount__discount\")]/text()[normalize-space()]')\n",
    "    vendedor = producto.xpath('.//span[contains(@class, \"poly-component__seller\")]/text()[normalize-space()]')\n",
    "    calificacion = producto.xpath('.//span[contains(@class, \"poly-reviews__rating\")]/text()[normalize-space()]')\n",
    "    \n",
    "    lista_productos.append(\n",
    "        {\n",
    "            'nombre': nombre[0] if nombre else None,\n",
    "            'precio': int(precio[0].replace(\".\", \"\")) if precio else None,\n",
    "            'descuento': descuento[0] if descuento else None,\n",
    "            'vendedor': vendedor[0] if vendedor else None,\n",
    "            'calificacion': float(calificacion[0]) if calificacion else None,\n",
    "            'url_producto': url_producto[0] if url_producto else None,\n",
    "            'imagen_url': imagen_url[0] if imagen_url else None,\n",
    "        }\n",
    "    )\n",
    "\n",
    "data_consulta = pd.DataFrame(lista_productos)\n",
    "data_consulta.head()"
   ]
  },
  {
   "cell_type": "markdown",
   "id": "37c8f486-b8f8-4ce1-8ee6-5a051590b7a3",
   "metadata": {},
   "source": [
    "- Articulo con el precio más bajo.\n",
    "- Articulo con el Precio más alto.\n",
    "- Articulo con el Descuento más alto.\n",
    "- Precio promedio.\n",
    "- Articulo con mejor calificación.\n"
   ]
  },
  {
   "cell_type": "code",
   "execution_count": 60,
   "id": "f2c7df33-4a06-4649-a7b3-b4e72357fc2c",
   "metadata": {},
   "outputs": [
    {
     "data": {
      "text/plain": [
       "248289"
      ]
     },
     "execution_count": 60,
     "metadata": {},
     "output_type": "execute_result"
    }
   ],
   "source": [
    "data_consulta['precio'].min()"
   ]
  },
  {
   "cell_type": "code",
   "execution_count": 59,
   "id": "db1bea62-20ec-4035-b349-d2150a4da665",
   "metadata": {},
   "outputs": [
    {
     "data": {
      "text/html": [
       "<div>\n",
       "<style scoped>\n",
       "    .dataframe tbody tr th:only-of-type {\n",
       "        vertical-align: middle;\n",
       "    }\n",
       "\n",
       "    .dataframe tbody tr th {\n",
       "        vertical-align: top;\n",
       "    }\n",
       "\n",
       "    .dataframe thead th {\n",
       "        text-align: right;\n",
       "    }\n",
       "</style>\n",
       "<table border=\"1\" class=\"dataframe\">\n",
       "  <thead>\n",
       "    <tr style=\"text-align: right;\">\n",
       "      <th></th>\n",
       "      <th>nombre</th>\n",
       "      <th>precio</th>\n",
       "      <th>descuento</th>\n",
       "      <th>vendedor</th>\n",
       "      <th>calificacion</th>\n",
       "      <th>url_producto</th>\n",
       "      <th>imagen_url</th>\n",
       "    </tr>\n",
       "  </thead>\n",
       "  <tbody>\n",
       "    <tr>\n",
       "      <th>15</th>\n",
       "      <td>Control Remoto De Repuesto An-mr650a Apto Para...</td>\n",
       "      <td>248289</td>\n",
       "      <td>None</td>\n",
       "      <td>None</td>\n",
       "      <td>NaN</td>\n",
       "      <td>https://www.mercadolibre.com.co/for-remote-con...</td>\n",
       "      <td>data:image/gif;base64,R0lGODlhAQABAIAAAAAAAP//...</td>\n",
       "    </tr>\n",
       "  </tbody>\n",
       "</table>\n",
       "</div>"
      ],
      "text/plain": [
       "                                               nombre  precio descuento  \\\n",
       "15  Control Remoto De Repuesto An-mr650a Apto Para...  248289      None   \n",
       "\n",
       "   vendedor  calificacion                                       url_producto  \\\n",
       "15     None           NaN  https://www.mercadolibre.com.co/for-remote-con...   \n",
       "\n",
       "                                           imagen_url  \n",
       "15  data:image/gif;base64,R0lGODlhAQABAIAAAAAAAP//...  "
      ]
     },
     "execution_count": 59,
     "metadata": {},
     "output_type": "execute_result"
    }
   ],
   "source": [
    "# Articulo con el precio más bajo\n",
    "data_consulta[data_consulta['precio']==data_consulta['precio'].min()]"
   ]
  },
  {
   "cell_type": "code",
   "execution_count": 61,
   "id": "58db3eeb-2bba-4d2e-886d-43aa5aa1fc8d",
   "metadata": {},
   "outputs": [
    {
     "data": {
      "text/html": [
       "<div>\n",
       "<style scoped>\n",
       "    .dataframe tbody tr th:only-of-type {\n",
       "        vertical-align: middle;\n",
       "    }\n",
       "\n",
       "    .dataframe tbody tr th {\n",
       "        vertical-align: top;\n",
       "    }\n",
       "\n",
       "    .dataframe thead th {\n",
       "        text-align: right;\n",
       "    }\n",
       "</style>\n",
       "<table border=\"1\" class=\"dataframe\">\n",
       "  <thead>\n",
       "    <tr style=\"text-align: right;\">\n",
       "      <th></th>\n",
       "      <th>nombre</th>\n",
       "      <th>precio</th>\n",
       "      <th>descuento</th>\n",
       "      <th>vendedor</th>\n",
       "      <th>calificacion</th>\n",
       "      <th>url_producto</th>\n",
       "      <th>imagen_url</th>\n",
       "    </tr>\n",
       "  </thead>\n",
       "  <tbody>\n",
       "    <tr>\n",
       "      <th>17</th>\n",
       "      <td>LG Oled Flex Curvo Flexible 4k Uhd Hdr 120 Hz ...</td>\n",
       "      <td>15318900</td>\n",
       "      <td>None</td>\n",
       "      <td>None</td>\n",
       "      <td>NaN</td>\n",
       "      <td>https://articulo.mercadolibre.com.co/MCO-10394...</td>\n",
       "      <td>data:image/gif;base64,R0lGODlhAQABAIAAAAAAAP//...</td>\n",
       "    </tr>\n",
       "  </tbody>\n",
       "</table>\n",
       "</div>"
      ],
      "text/plain": [
       "                                               nombre    precio descuento  \\\n",
       "17  LG Oled Flex Curvo Flexible 4k Uhd Hdr 120 Hz ...  15318900      None   \n",
       "\n",
       "   vendedor  calificacion                                       url_producto  \\\n",
       "17     None           NaN  https://articulo.mercadolibre.com.co/MCO-10394...   \n",
       "\n",
       "                                           imagen_url  \n",
       "17  data:image/gif;base64,R0lGODlhAQABAIAAAAAAAP//...  "
      ]
     },
     "execution_count": 61,
     "metadata": {},
     "output_type": "execute_result"
    }
   ],
   "source": [
    "# Articulo con el precio más alto\n",
    "data_consulta[data_consulta['precio']==data_consulta['precio'].max()]"
   ]
  },
  {
   "cell_type": "code",
   "execution_count": 63,
   "id": "8ee99e86-9e13-4709-aebb-b2b751e31017",
   "metadata": {},
   "outputs": [],
   "source": [
    "# Articulo con el Descuento más alto"
   ]
  },
  {
   "cell_type": "code",
   "execution_count": 65,
   "id": "441ec70d-56f3-4820-9dce-aa713e051217",
   "metadata": {},
   "outputs": [
    {
     "data": {
      "text/plain": [
       "3890018.14"
      ]
     },
     "execution_count": 65,
     "metadata": {},
     "output_type": "execute_result"
    }
   ],
   "source": [
    "# Precio promedio\n",
    "data_consulta['precio'].mean()"
   ]
  },
  {
   "cell_type": "code",
   "execution_count": 66,
   "id": "6a1022f1-508a-47d6-878c-1022d330397f",
   "metadata": {},
   "outputs": [
    {
     "data": {
      "text/html": [
       "<div>\n",
       "<style scoped>\n",
       "    .dataframe tbody tr th:only-of-type {\n",
       "        vertical-align: middle;\n",
       "    }\n",
       "\n",
       "    .dataframe tbody tr th {\n",
       "        vertical-align: top;\n",
       "    }\n",
       "\n",
       "    .dataframe thead th {\n",
       "        text-align: right;\n",
       "    }\n",
       "</style>\n",
       "<table border=\"1\" class=\"dataframe\">\n",
       "  <thead>\n",
       "    <tr style=\"text-align: right;\">\n",
       "      <th></th>\n",
       "      <th>nombre</th>\n",
       "      <th>precio</th>\n",
       "      <th>descuento</th>\n",
       "      <th>vendedor</th>\n",
       "      <th>calificacion</th>\n",
       "      <th>url_producto</th>\n",
       "      <th>imagen_url</th>\n",
       "    </tr>\n",
       "  </thead>\n",
       "  <tbody>\n",
       "    <tr>\n",
       "      <th>1</th>\n",
       "      <td>Tv LG 65 Uhd 4k Thinq Ai Smart 65ur8750psa (2023)</td>\n",
       "      <td>3299900</td>\n",
       "      <td>None</td>\n",
       "      <td>None</td>\n",
       "      <td>5.0</td>\n",
       "      <td>https://www.mercadolibre.com.co/tv-lg-65-uhd-4...</td>\n",
       "      <td>https://http2.mlstatic.com/D_Q_NP_2X_690201-ML...</td>\n",
       "    </tr>\n",
       "    <tr>\n",
       "      <th>2</th>\n",
       "      <td>Televisor LG 55 55ut8000psb 4k Ultra Hdsmart T...</td>\n",
       "      <td>1859016</td>\n",
       "      <td>43% OFF</td>\n",
       "      <td>Por LG Electronics Colombia</td>\n",
       "      <td>5.0</td>\n",
       "      <td>https://www.mercadolibre.com.co/televisor-lg-5...</td>\n",
       "      <td>data:image/gif;base64,R0lGODlhAQABAIAAAAAAAP//...</td>\n",
       "    </tr>\n",
       "    <tr>\n",
       "      <th>3</th>\n",
       "      <td>Televisor LG Oled Objet Collection 55lx1, Proc...</td>\n",
       "      <td>5390691</td>\n",
       "      <td>17% OFF</td>\n",
       "      <td>None</td>\n",
       "      <td>5.0</td>\n",
       "      <td>https://www.mercadolibre.com.co/televisor-lg-o...</td>\n",
       "      <td>data:image/gif;base64,R0lGODlhAQABAIAAAAAAAP//...</td>\n",
       "    </tr>\n",
       "    <tr>\n",
       "      <th>4</th>\n",
       "      <td>Televisor LG 55 Oled B4 Oled55b4 4k Smart Tv</td>\n",
       "      <td>4676987</td>\n",
       "      <td>None</td>\n",
       "      <td>None</td>\n",
       "      <td>5.0</td>\n",
       "      <td>https://www.mercadolibre.com.co/televisor-lg-5...</td>\n",
       "      <td>data:image/gif;base64,R0lGODlhAQABAIAAAAAAAP//...</td>\n",
       "    </tr>\n",
       "    <tr>\n",
       "      <th>6</th>\n",
       "      <td>Televisor LG 65 pulgadas 65UR7800PSB.AWC Uhd A...</td>\n",
       "      <td>2489000</td>\n",
       "      <td>None</td>\n",
       "      <td>None</td>\n",
       "      <td>5.0</td>\n",
       "      <td>https://www.mercadolibre.com.co/televisor-lg-6...</td>\n",
       "      <td>data:image/gif;base64,R0lGODlhAQABAIAAAAAAAP//...</td>\n",
       "    </tr>\n",
       "    <tr>\n",
       "      <th>7</th>\n",
       "      <td>Televisor inteligente LG Led 65 65ur871c0sa Ai...</td>\n",
       "      <td>2419900</td>\n",
       "      <td>40% OFF</td>\n",
       "      <td>Por Ventas E-commerce</td>\n",
       "      <td>5.0</td>\n",
       "      <td>https://www.mercadolibre.com.co/televisor-inte...</td>\n",
       "      <td>data:image/gif;base64,R0lGODlhAQABAIAAAAAAAP//...</td>\n",
       "    </tr>\n",
       "    <tr>\n",
       "      <th>8</th>\n",
       "      <td>Televisor 32 Pulgadas Caixun C32vahw</td>\n",
       "      <td>629900</td>\n",
       "      <td>9% OFF</td>\n",
       "      <td>Por Mansion</td>\n",
       "      <td>5.0</td>\n",
       "      <td>https://www.mercadolibre.com.co/televisor-32-p...</td>\n",
       "      <td>data:image/gif;base64,R0lGODlhAQABAIAAAAAAAP//...</td>\n",
       "    </tr>\n",
       "    <tr>\n",
       "      <th>10</th>\n",
       "      <td>Smart Tv LG 43lm6370pdb Led Webos Full Hd 43  ...</td>\n",
       "      <td>1114900</td>\n",
       "      <td>25% OFF</td>\n",
       "      <td>Por Ventas E-commerce</td>\n",
       "      <td>5.0</td>\n",
       "      <td>https://articulo.mercadolibre.com.co/MCO-17834...</td>\n",
       "      <td>data:image/gif;base64,R0lGODlhAQABAIAAAAAAAP//...</td>\n",
       "    </tr>\n",
       "    <tr>\n",
       "      <th>11</th>\n",
       "      <td>Televisor LG 43 Pulgadas Smart Led Fhd Web Os</td>\n",
       "      <td>1766900</td>\n",
       "      <td>21% OFF</td>\n",
       "      <td>Por Merkosto</td>\n",
       "      <td>5.0</td>\n",
       "      <td>https://articulo.mercadolibre.com.co/MCO-86594...</td>\n",
       "      <td>data:image/gif;base64,R0lGODlhAQABAIAAAAAAAP//...</td>\n",
       "    </tr>\n",
       "    <tr>\n",
       "      <th>18</th>\n",
       "      <td>Smart Tv LG 55UR7800PSB 55\" 4K LED</td>\n",
       "      <td>1999900</td>\n",
       "      <td>35% OFF</td>\n",
       "      <td>Por LG Electronics Colombia</td>\n",
       "      <td>5.0</td>\n",
       "      <td>https://www.mercadolibre.com.co/smart-tv-lg-55...</td>\n",
       "      <td>data:image/gif;base64,R0lGODlhAQABAIAAAAAAAP//...</td>\n",
       "    </tr>\n",
       "    <tr>\n",
       "      <th>26</th>\n",
       "      <td>Smart TV de 55\" LG EVO OLED55C2 4K</td>\n",
       "      <td>5499000</td>\n",
       "      <td>None</td>\n",
       "      <td>None</td>\n",
       "      <td>5.0</td>\n",
       "      <td>https://www.mercadolibre.com.co/smart-tv-de-55...</td>\n",
       "      <td>data:image/gif;base64,R0lGODlhAQABAIAAAAAAAP//...</td>\n",
       "    </tr>\n",
       "    <tr>\n",
       "      <th>44</th>\n",
       "      <td>Smart TV de 55\" LG AI ThinQ 55NANO75 con panta...</td>\n",
       "      <td>2400000</td>\n",
       "      <td>None</td>\n",
       "      <td>None</td>\n",
       "      <td>5.0</td>\n",
       "      <td>https://www.mercadolibre.com.co/smart-tv-de-55...</td>\n",
       "      <td>data:image/gif;base64,R0lGODlhAQABAIAAAAAAAP//...</td>\n",
       "    </tr>\n",
       "  </tbody>\n",
       "</table>\n",
       "</div>"
      ],
      "text/plain": [
       "                                               nombre   precio descuento  \\\n",
       "1   Tv LG 65 Uhd 4k Thinq Ai Smart 65ur8750psa (2023)  3299900      None   \n",
       "2   Televisor LG 55 55ut8000psb 4k Ultra Hdsmart T...  1859016   43% OFF   \n",
       "3   Televisor LG Oled Objet Collection 55lx1, Proc...  5390691   17% OFF   \n",
       "4        Televisor LG 55 Oled B4 Oled55b4 4k Smart Tv  4676987      None   \n",
       "6   Televisor LG 65 pulgadas 65UR7800PSB.AWC Uhd A...  2489000      None   \n",
       "7   Televisor inteligente LG Led 65 65ur871c0sa Ai...  2419900   40% OFF   \n",
       "8                Televisor 32 Pulgadas Caixun C32vahw   629900    9% OFF   \n",
       "10  Smart Tv LG 43lm6370pdb Led Webos Full Hd 43  ...  1114900   25% OFF   \n",
       "11      Televisor LG 43 Pulgadas Smart Led Fhd Web Os  1766900   21% OFF   \n",
       "18                 Smart Tv LG 55UR7800PSB 55\" 4K LED  1999900   35% OFF   \n",
       "26                 Smart TV de 55\" LG EVO OLED55C2 4K  5499000      None   \n",
       "44  Smart TV de 55\" LG AI ThinQ 55NANO75 con panta...  2400000      None   \n",
       "\n",
       "                        vendedor  calificacion  \\\n",
       "1                           None           5.0   \n",
       "2   Por LG Electronics Colombia            5.0   \n",
       "3                           None           5.0   \n",
       "4                           None           5.0   \n",
       "6                           None           5.0   \n",
       "7         Por Ventas E-commerce            5.0   \n",
       "8                   Por Mansion            5.0   \n",
       "10        Por Ventas E-commerce            5.0   \n",
       "11                 Por Merkosto            5.0   \n",
       "18  Por LG Electronics Colombia            5.0   \n",
       "26                          None           5.0   \n",
       "44                          None           5.0   \n",
       "\n",
       "                                         url_producto  \\\n",
       "1   https://www.mercadolibre.com.co/tv-lg-65-uhd-4...   \n",
       "2   https://www.mercadolibre.com.co/televisor-lg-5...   \n",
       "3   https://www.mercadolibre.com.co/televisor-lg-o...   \n",
       "4   https://www.mercadolibre.com.co/televisor-lg-5...   \n",
       "6   https://www.mercadolibre.com.co/televisor-lg-6...   \n",
       "7   https://www.mercadolibre.com.co/televisor-inte...   \n",
       "8   https://www.mercadolibre.com.co/televisor-32-p...   \n",
       "10  https://articulo.mercadolibre.com.co/MCO-17834...   \n",
       "11  https://articulo.mercadolibre.com.co/MCO-86594...   \n",
       "18  https://www.mercadolibre.com.co/smart-tv-lg-55...   \n",
       "26  https://www.mercadolibre.com.co/smart-tv-de-55...   \n",
       "44  https://www.mercadolibre.com.co/smart-tv-de-55...   \n",
       "\n",
       "                                           imagen_url  \n",
       "1   https://http2.mlstatic.com/D_Q_NP_2X_690201-ML...  \n",
       "2   data:image/gif;base64,R0lGODlhAQABAIAAAAAAAP//...  \n",
       "3   data:image/gif;base64,R0lGODlhAQABAIAAAAAAAP//...  \n",
       "4   data:image/gif;base64,R0lGODlhAQABAIAAAAAAAP//...  \n",
       "6   data:image/gif;base64,R0lGODlhAQABAIAAAAAAAP//...  \n",
       "7   data:image/gif;base64,R0lGODlhAQABAIAAAAAAAP//...  \n",
       "8   data:image/gif;base64,R0lGODlhAQABAIAAAAAAAP//...  \n",
       "10  data:image/gif;base64,R0lGODlhAQABAIAAAAAAAP//...  \n",
       "11  data:image/gif;base64,R0lGODlhAQABAIAAAAAAAP//...  \n",
       "18  data:image/gif;base64,R0lGODlhAQABAIAAAAAAAP//...  \n",
       "26  data:image/gif;base64,R0lGODlhAQABAIAAAAAAAP//...  \n",
       "44  data:image/gif;base64,R0lGODlhAQABAIAAAAAAAP//...  "
      ]
     },
     "execution_count": 66,
     "metadata": {},
     "output_type": "execute_result"
    }
   ],
   "source": [
    "# Articulo con mejor calificación\n",
    "data_consulta[data_consulta['calificacion']==data_consulta['calificacion'].max()]"
   ]
  },
  {
   "cell_type": "code",
   "execution_count": null,
   "id": "1acbf3b1-8b44-4364-9f65-6535ba066766",
   "metadata": {},
   "outputs": [],
   "source": []
  }
 ],
 "metadata": {
  "kernelspec": {
   "display_name": "Python 3 (ipykernel)",
   "language": "python",
   "name": "python3"
  },
  "language_info": {
   "codemirror_mode": {
    "name": "ipython",
    "version": 3
   },
   "file_extension": ".py",
   "mimetype": "text/x-python",
   "name": "python",
   "nbconvert_exporter": "python",
   "pygments_lexer": "ipython3",
   "version": "3.10.2"
  }
 },
 "nbformat": 4,
 "nbformat_minor": 5
}
